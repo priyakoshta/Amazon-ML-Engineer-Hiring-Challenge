{
 "cells": [
  {
   "cell_type": "code",
   "execution_count": 1,
   "metadata": {
    "_cell_guid": "79c7e3d0-c299-4dcb-8224-4455121ee9b0",
    "_uuid": "d629ff2d2480ee46fbb7e2d37f6b5fab8052498a",
    "execution": {
     "iopub.execute_input": "2020-11-25T07:08:52.514383Z",
     "iopub.status.busy": "2020-11-25T07:08:52.513120Z",
     "iopub.status.idle": "2020-11-25T07:08:53.923670Z",
     "shell.execute_reply": "2020-11-25T07:08:53.922913Z"
    },
    "papermill": {
     "duration": 1.444927,
     "end_time": "2020-11-25T07:08:53.923813",
     "exception": false,
     "start_time": "2020-11-25T07:08:52.478886",
     "status": "completed"
    },
    "tags": []
   },
   "outputs": [],
   "source": [
    "import seaborn as sns\n",
    "import pandas as pd\n",
    "from sklearn.linear_model import LinearRegression\n",
    "from sklearn import preprocessing\n",
    "import numpy as np\n",
    "from sklearn.model_selection import train_test_split, GridSearchCV\n",
    "from sklearn.preprocessing import PowerTransformer\n",
    "from sklearn.metrics import mean_squared_error\n",
    "from math import sqrt\n",
    "from sklearn import metrics\n",
    "from sklearn.tree import DecisionTreeRegressor  \n",
    "import random\n",
    "from matplotlib import pyplot as plt"
   ]
  },
  {
   "cell_type": "code",
   "execution_count": 2,
   "metadata": {
    "execution": {
     "iopub.execute_input": "2020-11-25T07:08:53.978512Z",
     "iopub.status.busy": "2020-11-25T07:08:53.977522Z",
     "iopub.status.idle": "2020-11-25T07:08:54.034750Z",
     "shell.execute_reply": "2020-11-25T07:08:54.033941Z"
    },
    "papermill": {
     "duration": 0.088344,
     "end_time": "2020-11-25T07:08:54.034873",
     "exception": false,
     "start_time": "2020-11-25T07:08:53.946529",
     "status": "completed"
    },
    "tags": []
   },
   "outputs": [],
   "source": [
    "train_df=pd.read_csv('../input/amazonml/train.csv')"
   ]
  },
  {
   "cell_type": "code",
   "execution_count": 3,
   "metadata": {
    "execution": {
     "iopub.execute_input": "2020-11-25T07:08:54.086849Z",
     "iopub.status.busy": "2020-11-25T07:08:54.085991Z",
     "iopub.status.idle": "2020-11-25T07:08:54.120622Z",
     "shell.execute_reply": "2020-11-25T07:08:54.119892Z"
    },
    "papermill": {
     "duration": 0.062977,
     "end_time": "2020-11-25T07:08:54.120766",
     "exception": false,
     "start_time": "2020-11-25T07:08:54.057789",
     "status": "completed"
    },
    "tags": []
   },
   "outputs": [],
   "source": [
    "test_df=pd.read_csv('../input/amazonml/test.csv')"
   ]
  },
  {
   "cell_type": "code",
   "execution_count": 4,
   "metadata": {
    "execution": {
     "iopub.execute_input": "2020-11-25T07:08:54.188589Z",
     "iopub.status.busy": "2020-11-25T07:08:54.187524Z",
     "iopub.status.idle": "2020-11-25T07:08:54.202907Z",
     "shell.execute_reply": "2020-11-25T07:08:54.202205Z"
    },
    "papermill": {
     "duration": 0.059537,
     "end_time": "2020-11-25T07:08:54.203030",
     "exception": false,
     "start_time": "2020-11-25T07:08:54.143493",
     "status": "completed"
    },
    "tags": []
   },
   "outputs": [
    {
     "data": {
      "text/html": [
       "<div>\n",
       "<style scoped>\n",
       "    .dataframe tbody tr th:only-of-type {\n",
       "        vertical-align: middle;\n",
       "    }\n",
       "\n",
       "    .dataframe tbody tr th {\n",
       "        vertical-align: top;\n",
       "    }\n",
       "\n",
       "    .dataframe thead th {\n",
       "        text-align: right;\n",
       "    }\n",
       "</style>\n",
       "<table border=\"1\" class=\"dataframe\">\n",
       "  <thead>\n",
       "    <tr style=\"text-align: right;\">\n",
       "      <th></th>\n",
       "      <th>customer_id</th>\n",
       "      <th>customer_visit_score</th>\n",
       "      <th>customer_product_search_score</th>\n",
       "      <th>customer_ctr_score</th>\n",
       "      <th>customer_stay_score</th>\n",
       "      <th>customer_frequency_score</th>\n",
       "      <th>customer_product_variation_score</th>\n",
       "      <th>customer_order_score</th>\n",
       "      <th>customer_affinity_score</th>\n",
       "      <th>customer_active_segment</th>\n",
       "      <th>X1</th>\n",
       "      <th>customer_category</th>\n",
       "    </tr>\n",
       "  </thead>\n",
       "  <tbody>\n",
       "    <tr>\n",
       "      <th>0</th>\n",
       "      <td>csid_1</td>\n",
       "      <td>13.168425</td>\n",
       "      <td>9.447662</td>\n",
       "      <td>-0.070203</td>\n",
       "      <td>-0.139541</td>\n",
       "      <td>0.436956</td>\n",
       "      <td>4.705761</td>\n",
       "      <td>2.537985</td>\n",
       "      <td>7.959503</td>\n",
       "      <td>C</td>\n",
       "      <td>F</td>\n",
       "      <td>0</td>\n",
       "    </tr>\n",
       "    <tr>\n",
       "      <th>1</th>\n",
       "      <td>csid_2</td>\n",
       "      <td>17.092979</td>\n",
       "      <td>7.329056</td>\n",
       "      <td>0.153298</td>\n",
       "      <td>-0.102726</td>\n",
       "      <td>0.380340</td>\n",
       "      <td>4.205138</td>\n",
       "      <td>4.193444</td>\n",
       "      <td>17.517381</td>\n",
       "      <td>C</td>\n",
       "      <td>A</td>\n",
       "      <td>0</td>\n",
       "    </tr>\n",
       "    <tr>\n",
       "      <th>2</th>\n",
       "      <td>csid_3</td>\n",
       "      <td>17.505334</td>\n",
       "      <td>5.143676</td>\n",
       "      <td>0.106709</td>\n",
       "      <td>0.262834</td>\n",
       "      <td>0.417648</td>\n",
       "      <td>4.479070</td>\n",
       "      <td>3.878971</td>\n",
       "      <td>12.595155</td>\n",
       "      <td>C</td>\n",
       "      <td>BA</td>\n",
       "      <td>0</td>\n",
       "    </tr>\n",
       "    <tr>\n",
       "      <th>3</th>\n",
       "      <td>csid_4</td>\n",
       "      <td>31.423381</td>\n",
       "      <td>4.917740</td>\n",
       "      <td>-0.020226</td>\n",
       "      <td>-0.100526</td>\n",
       "      <td>0.778130</td>\n",
       "      <td>5.055535</td>\n",
       "      <td>2.708940</td>\n",
       "      <td>4.795073</td>\n",
       "      <td>AA</td>\n",
       "      <td>F</td>\n",
       "      <td>0</td>\n",
       "    </tr>\n",
       "    <tr>\n",
       "      <th>4</th>\n",
       "      <td>csid_5</td>\n",
       "      <td>11.909502</td>\n",
       "      <td>4.237073</td>\n",
       "      <td>0.187178</td>\n",
       "      <td>0.172891</td>\n",
       "      <td>0.162067</td>\n",
       "      <td>3.445247</td>\n",
       "      <td>3.677360</td>\n",
       "      <td>56.636326</td>\n",
       "      <td>C</td>\n",
       "      <td>AA</td>\n",
       "      <td>0</td>\n",
       "    </tr>\n",
       "  </tbody>\n",
       "</table>\n",
       "</div>"
      ],
      "text/plain": [
       "  customer_id  customer_visit_score  customer_product_search_score  \\\n",
       "0      csid_1             13.168425                       9.447662   \n",
       "1      csid_2             17.092979                       7.329056   \n",
       "2      csid_3             17.505334                       5.143676   \n",
       "3      csid_4             31.423381                       4.917740   \n",
       "4      csid_5             11.909502                       4.237073   \n",
       "\n",
       "   customer_ctr_score  customer_stay_score  customer_frequency_score  \\\n",
       "0           -0.070203            -0.139541                  0.436956   \n",
       "1            0.153298            -0.102726                  0.380340   \n",
       "2            0.106709             0.262834                  0.417648   \n",
       "3           -0.020226            -0.100526                  0.778130   \n",
       "4            0.187178             0.172891                  0.162067   \n",
       "\n",
       "   customer_product_variation_score  customer_order_score  \\\n",
       "0                          4.705761              2.537985   \n",
       "1                          4.205138              4.193444   \n",
       "2                          4.479070              3.878971   \n",
       "3                          5.055535              2.708940   \n",
       "4                          3.445247              3.677360   \n",
       "\n",
       "   customer_affinity_score customer_active_segment  X1  customer_category  \n",
       "0                 7.959503                       C   F                  0  \n",
       "1                17.517381                       C   A                  0  \n",
       "2                12.595155                       C  BA                  0  \n",
       "3                 4.795073                      AA   F                  0  \n",
       "4                56.636326                       C  AA                  0  "
      ]
     },
     "execution_count": 4,
     "metadata": {},
     "output_type": "execute_result"
    }
   ],
   "source": [
    "train_df.head()"
   ]
  },
  {
   "cell_type": "code",
   "execution_count": 5,
   "metadata": {
    "execution": {
     "iopub.execute_input": "2020-11-25T07:08:54.270126Z",
     "iopub.status.busy": "2020-11-25T07:08:54.262222Z",
     "iopub.status.idle": "2020-11-25T07:08:54.275274Z",
     "shell.execute_reply": "2020-11-25T07:08:54.274512Z"
    },
    "papermill": {
     "duration": 0.048513,
     "end_time": "2020-11-25T07:08:54.275397",
     "exception": false,
     "start_time": "2020-11-25T07:08:54.226884",
     "status": "completed"
    },
    "tags": []
   },
   "outputs": [
    {
     "data": {
      "text/html": [
       "<div>\n",
       "<style scoped>\n",
       "    .dataframe tbody tr th:only-of-type {\n",
       "        vertical-align: middle;\n",
       "    }\n",
       "\n",
       "    .dataframe tbody tr th {\n",
       "        vertical-align: top;\n",
       "    }\n",
       "\n",
       "    .dataframe thead th {\n",
       "        text-align: right;\n",
       "    }\n",
       "</style>\n",
       "<table border=\"1\" class=\"dataframe\">\n",
       "  <thead>\n",
       "    <tr style=\"text-align: right;\">\n",
       "      <th></th>\n",
       "      <th>customer_id</th>\n",
       "      <th>customer_visit_score</th>\n",
       "      <th>customer_product_search_score</th>\n",
       "      <th>customer_ctr_score</th>\n",
       "      <th>customer_stay_score</th>\n",
       "      <th>customer_frequency_score</th>\n",
       "      <th>customer_product_variation_score</th>\n",
       "      <th>customer_order_score</th>\n",
       "      <th>customer_affinity_score</th>\n",
       "      <th>customer_active_segment</th>\n",
       "      <th>X1</th>\n",
       "    </tr>\n",
       "  </thead>\n",
       "  <tbody>\n",
       "    <tr>\n",
       "      <th>0</th>\n",
       "      <td>csid_10739</td>\n",
       "      <td>22.500174</td>\n",
       "      <td>3.702145</td>\n",
       "      <td>0.118811</td>\n",
       "      <td>0.093253</td>\n",
       "      <td>0.689237</td>\n",
       "      <td>5.786842</td>\n",
       "      <td>3.748009</td>\n",
       "      <td>7.661716</td>\n",
       "      <td>B</td>\n",
       "      <td>BA</td>\n",
       "    </tr>\n",
       "    <tr>\n",
       "      <th>1</th>\n",
       "      <td>csid_10740</td>\n",
       "      <td>13.225950</td>\n",
       "      <td>3.600102</td>\n",
       "      <td>0.130985</td>\n",
       "      <td>0.053575</td>\n",
       "      <td>0.142756</td>\n",
       "      <td>3.940359</td>\n",
       "      <td>3.469659</td>\n",
       "      <td>33.999679</td>\n",
       "      <td>B</td>\n",
       "      <td>AA</td>\n",
       "    </tr>\n",
       "    <tr>\n",
       "      <th>2</th>\n",
       "      <td>csid_10741</td>\n",
       "      <td>14.603376</td>\n",
       "      <td>5.084047</td>\n",
       "      <td>-0.004651</td>\n",
       "      <td>-0.036299</td>\n",
       "      <td>0.333709</td>\n",
       "      <td>4.254662</td>\n",
       "      <td>3.855939</td>\n",
       "      <td>33.485630</td>\n",
       "      <td>B</td>\n",
       "      <td>AA</td>\n",
       "    </tr>\n",
       "    <tr>\n",
       "      <th>3</th>\n",
       "      <td>csid_10742</td>\n",
       "      <td>26.149905</td>\n",
       "      <td>3.025501</td>\n",
       "      <td>0.229740</td>\n",
       "      <td>0.204591</td>\n",
       "      <td>3.768405</td>\n",
       "      <td>6.942625</td>\n",
       "      <td>2.362421</td>\n",
       "      <td>0.795372</td>\n",
       "      <td>B</td>\n",
       "      <td>BA</td>\n",
       "    </tr>\n",
       "    <tr>\n",
       "      <th>4</th>\n",
       "      <td>csid_10743</td>\n",
       "      <td>19.810630</td>\n",
       "      <td>5.020400</td>\n",
       "      <td>-0.011347</td>\n",
       "      <td>-0.028780</td>\n",
       "      <td>0.286841</td>\n",
       "      <td>4.585513</td>\n",
       "      <td>3.278624</td>\n",
       "      <td>15.052058</td>\n",
       "      <td>C</td>\n",
       "      <td>BA</td>\n",
       "    </tr>\n",
       "  </tbody>\n",
       "</table>\n",
       "</div>"
      ],
      "text/plain": [
       "  customer_id  customer_visit_score  customer_product_search_score  \\\n",
       "0  csid_10739             22.500174                       3.702145   \n",
       "1  csid_10740             13.225950                       3.600102   \n",
       "2  csid_10741             14.603376                       5.084047   \n",
       "3  csid_10742             26.149905                       3.025501   \n",
       "4  csid_10743             19.810630                       5.020400   \n",
       "\n",
       "   customer_ctr_score  customer_stay_score  customer_frequency_score  \\\n",
       "0            0.118811             0.093253                  0.689237   \n",
       "1            0.130985             0.053575                  0.142756   \n",
       "2           -0.004651            -0.036299                  0.333709   \n",
       "3            0.229740             0.204591                  3.768405   \n",
       "4           -0.011347            -0.028780                  0.286841   \n",
       "\n",
       "   customer_product_variation_score  customer_order_score  \\\n",
       "0                          5.786842              3.748009   \n",
       "1                          3.940359              3.469659   \n",
       "2                          4.254662              3.855939   \n",
       "3                          6.942625              2.362421   \n",
       "4                          4.585513              3.278624   \n",
       "\n",
       "   customer_affinity_score customer_active_segment  X1  \n",
       "0                 7.661716                       B  BA  \n",
       "1                33.999679                       B  AA  \n",
       "2                33.485630                       B  AA  \n",
       "3                 0.795372                       B  BA  \n",
       "4                15.052058                       C  BA  "
      ]
     },
     "execution_count": 5,
     "metadata": {},
     "output_type": "execute_result"
    }
   ],
   "source": [
    "test_df.head()"
   ]
  },
  {
   "cell_type": "code",
   "execution_count": 6,
   "metadata": {
    "execution": {
     "iopub.execute_input": "2020-11-25T07:08:54.332547Z",
     "iopub.status.busy": "2020-11-25T07:08:54.331392Z",
     "iopub.status.idle": "2020-11-25T07:08:54.352086Z",
     "shell.execute_reply": "2020-11-25T07:08:54.351488Z"
    },
    "papermill": {
     "duration": 0.052341,
     "end_time": "2020-11-25T07:08:54.352214",
     "exception": false,
     "start_time": "2020-11-25T07:08:54.299873",
     "status": "completed"
    },
    "tags": []
   },
   "outputs": [
    {
     "data": {
      "text/plain": [
       "0"
      ]
     },
     "execution_count": 6,
     "metadata": {},
     "output_type": "execute_result"
    }
   ],
   "source": [
    "train_df.duplicated().sum()"
   ]
  },
  {
   "cell_type": "code",
   "execution_count": 7,
   "metadata": {
    "execution": {
     "iopub.execute_input": "2020-11-25T07:08:54.410681Z",
     "iopub.status.busy": "2020-11-25T07:08:54.409436Z",
     "iopub.status.idle": "2020-11-25T07:08:54.413948Z",
     "shell.execute_reply": "2020-11-25T07:08:54.413211Z"
    },
    "papermill": {
     "duration": 0.036925,
     "end_time": "2020-11-25T07:08:54.414089",
     "exception": false,
     "start_time": "2020-11-25T07:08:54.377164",
     "status": "completed"
    },
    "tags": []
   },
   "outputs": [
    {
     "data": {
      "text/plain": [
       "0"
      ]
     },
     "execution_count": 7,
     "metadata": {},
     "output_type": "execute_result"
    }
   ],
   "source": [
    "train_df['customer_id'].duplicated().sum()"
   ]
  },
  {
   "cell_type": "code",
   "execution_count": 8,
   "metadata": {
    "execution": {
     "iopub.execute_input": "2020-11-25T07:08:54.472746Z",
     "iopub.status.busy": "2020-11-25T07:08:54.471658Z",
     "iopub.status.idle": "2020-11-25T07:08:54.476476Z",
     "shell.execute_reply": "2020-11-25T07:08:54.475825Z"
    },
    "papermill": {
     "duration": 0.036236,
     "end_time": "2020-11-25T07:08:54.476600",
     "exception": false,
     "start_time": "2020-11-25T07:08:54.440364",
     "status": "completed"
    },
    "tags": []
   },
   "outputs": [
    {
     "data": {
      "text/plain": [
       "array([0, 1])"
      ]
     },
     "execution_count": 8,
     "metadata": {},
     "output_type": "execute_result"
    }
   ],
   "source": [
    "train_df['customer_category'].unique()"
   ]
  },
  {
   "cell_type": "code",
   "execution_count": 9,
   "metadata": {
    "execution": {
     "iopub.execute_input": "2020-11-25T07:08:54.535460Z",
     "iopub.status.busy": "2020-11-25T07:08:54.534535Z",
     "iopub.status.idle": "2020-11-25T07:08:54.551601Z",
     "shell.execute_reply": "2020-11-25T07:08:54.550863Z"
    },
    "papermill": {
     "duration": 0.048528,
     "end_time": "2020-11-25T07:08:54.551721",
     "exception": false,
     "start_time": "2020-11-25T07:08:54.503193",
     "status": "completed"
    },
    "tags": []
   },
   "outputs": [
    {
     "data": {
      "text/plain": [
       "customer_visit_score                0.101448\n",
       "customer_product_search_score       0.289272\n",
       "customer_ctr_score                  3.216021\n",
       "customer_stay_score                 5.008726\n",
       "customer_frequency_score            4.083013\n",
       "customer_product_variation_score    1.851647\n",
       "customer_order_score                0.576865\n",
       "customer_affinity_score             2.993484\n",
       "customer_category                   2.330354\n",
       "dtype: float64"
      ]
     },
     "execution_count": 9,
     "metadata": {},
     "output_type": "execute_result"
    }
   ],
   "source": [
    "train_df.skew()"
   ]
  },
  {
   "cell_type": "code",
   "execution_count": 10,
   "metadata": {
    "execution": {
     "iopub.execute_input": "2020-11-25T07:08:54.611968Z",
     "iopub.status.busy": "2020-11-25T07:08:54.611175Z",
     "iopub.status.idle": "2020-11-25T07:08:54.697882Z",
     "shell.execute_reply": "2020-11-25T07:08:54.697233Z"
    },
    "papermill": {
     "duration": 0.11881,
     "end_time": "2020-11-25T07:08:54.698005",
     "exception": false,
     "start_time": "2020-11-25T07:08:54.579195",
     "status": "completed"
    },
    "tags": []
   },
   "outputs": [
    {
     "data": {
      "text/plain": [
       "customer_visit_score               -0.414148\n",
       "customer_product_search_score      -0.291749\n",
       "customer_ctr_score                  0.531189\n",
       "customer_stay_score                 0.497748\n",
       "customer_frequency_score            0.431105\n",
       "customer_product_variation_score    0.433911\n",
       "customer_order_score               -0.407798\n",
       "customer_affinity_score            -0.427537\n",
       "customer_category                   1.000000\n",
       "Name: customer_category, dtype: float64"
      ]
     },
     "execution_count": 10,
     "metadata": {},
     "output_type": "execute_result"
    }
   ],
   "source": [
    "train_df.corr(method='spearman')['customer_category']"
   ]
  },
  {
   "cell_type": "code",
   "execution_count": 11,
   "metadata": {
    "execution": {
     "iopub.execute_input": "2020-11-25T07:08:54.763563Z",
     "iopub.status.busy": "2020-11-25T07:08:54.762803Z",
     "iopub.status.idle": "2020-11-25T07:08:54.771045Z",
     "shell.execute_reply": "2020-11-25T07:08:54.770290Z"
    },
    "papermill": {
     "duration": 0.045052,
     "end_time": "2020-11-25T07:08:54.771186",
     "exception": false,
     "start_time": "2020-11-25T07:08:54.726134",
     "status": "completed"
    },
    "tags": []
   },
   "outputs": [
    {
     "data": {
      "text/plain": [
       "customer_id                          0\n",
       "customer_visit_score                 0\n",
       "customer_product_search_score       42\n",
       "customer_ctr_score                   0\n",
       "customer_stay_score                 37\n",
       "customer_frequency_score             0\n",
       "customer_product_variation_score    46\n",
       "customer_order_score                66\n",
       "customer_affinity_score              0\n",
       "customer_active_segment             23\n",
       "X1                                  37\n",
       "customer_category                    0\n",
       "dtype: int64"
      ]
     },
     "execution_count": 11,
     "metadata": {},
     "output_type": "execute_result"
    }
   ],
   "source": [
    "train_df.isnull().sum()"
   ]
  },
  {
   "cell_type": "code",
   "execution_count": 12,
   "metadata": {
    "execution": {
     "iopub.execute_input": "2020-11-25T07:08:54.838387Z",
     "iopub.status.busy": "2020-11-25T07:08:54.837392Z",
     "iopub.status.idle": "2020-11-25T07:08:54.849698Z",
     "shell.execute_reply": "2020-11-25T07:08:54.848748Z"
    },
    "papermill": {
     "duration": 0.05072,
     "end_time": "2020-11-25T07:08:54.849869",
     "exception": false,
     "start_time": "2020-11-25T07:08:54.799149",
     "status": "completed"
    },
    "tags": []
   },
   "outputs": [],
   "source": [
    "train_df[['customer_product_search_score','customer_stay_score','customer_product_variation_score','customer_order_score', 'customer_active_segment','X1']] = train_df[['customer_product_search_score','customer_stay_score','customer_product_variation_score','customer_order_score', 'customer_active_segment','X1']].ffill()\n",
    "# train_df.dropna(how='any', inplace=True)    "
   ]
  },
  {
   "cell_type": "code",
   "execution_count": 13,
   "metadata": {
    "execution": {
     "iopub.execute_input": "2020-11-25T07:08:54.944938Z",
     "iopub.status.busy": "2020-11-25T07:08:54.944102Z",
     "iopub.status.idle": "2020-11-25T07:08:54.948907Z",
     "shell.execute_reply": "2020-11-25T07:08:54.948172Z"
    },
    "papermill": {
     "duration": 0.062795,
     "end_time": "2020-11-25T07:08:54.949031",
     "exception": false,
     "start_time": "2020-11-25T07:08:54.886236",
     "status": "completed"
    },
    "tags": []
   },
   "outputs": [
    {
     "data": {
      "text/html": [
       "<div>\n",
       "<style scoped>\n",
       "    .dataframe tbody tr th:only-of-type {\n",
       "        vertical-align: middle;\n",
       "    }\n",
       "\n",
       "    .dataframe tbody tr th {\n",
       "        vertical-align: top;\n",
       "    }\n",
       "\n",
       "    .dataframe thead th {\n",
       "        text-align: right;\n",
       "    }\n",
       "</style>\n",
       "<table border=\"1\" class=\"dataframe\">\n",
       "  <thead>\n",
       "    <tr style=\"text-align: right;\">\n",
       "      <th></th>\n",
       "      <th>customer_id</th>\n",
       "      <th>customer_visit_score</th>\n",
       "      <th>customer_product_search_score</th>\n",
       "      <th>customer_ctr_score</th>\n",
       "      <th>customer_stay_score</th>\n",
       "      <th>customer_frequency_score</th>\n",
       "      <th>customer_product_variation_score</th>\n",
       "      <th>customer_order_score</th>\n",
       "      <th>customer_affinity_score</th>\n",
       "      <th>customer_active_segment</th>\n",
       "      <th>X1</th>\n",
       "      <th>customer_category</th>\n",
       "    </tr>\n",
       "  </thead>\n",
       "  <tbody>\n",
       "    <tr>\n",
       "      <th>0</th>\n",
       "      <td>csid_1</td>\n",
       "      <td>13.168425</td>\n",
       "      <td>9.447662</td>\n",
       "      <td>-0.070203</td>\n",
       "      <td>-0.139541</td>\n",
       "      <td>0.436956</td>\n",
       "      <td>4.705761</td>\n",
       "      <td>2.537985</td>\n",
       "      <td>7.959503</td>\n",
       "      <td>C</td>\n",
       "      <td>F</td>\n",
       "      <td>0</td>\n",
       "    </tr>\n",
       "    <tr>\n",
       "      <th>1</th>\n",
       "      <td>csid_2</td>\n",
       "      <td>17.092979</td>\n",
       "      <td>7.329056</td>\n",
       "      <td>0.153298</td>\n",
       "      <td>-0.102726</td>\n",
       "      <td>0.380340</td>\n",
       "      <td>4.205138</td>\n",
       "      <td>4.193444</td>\n",
       "      <td>17.517381</td>\n",
       "      <td>C</td>\n",
       "      <td>A</td>\n",
       "      <td>0</td>\n",
       "    </tr>\n",
       "    <tr>\n",
       "      <th>2</th>\n",
       "      <td>csid_3</td>\n",
       "      <td>17.505334</td>\n",
       "      <td>5.143676</td>\n",
       "      <td>0.106709</td>\n",
       "      <td>0.262834</td>\n",
       "      <td>0.417648</td>\n",
       "      <td>4.479070</td>\n",
       "      <td>3.878971</td>\n",
       "      <td>12.595155</td>\n",
       "      <td>C</td>\n",
       "      <td>BA</td>\n",
       "      <td>0</td>\n",
       "    </tr>\n",
       "    <tr>\n",
       "      <th>3</th>\n",
       "      <td>csid_4</td>\n",
       "      <td>31.423381</td>\n",
       "      <td>4.917740</td>\n",
       "      <td>-0.020226</td>\n",
       "      <td>-0.100526</td>\n",
       "      <td>0.778130</td>\n",
       "      <td>5.055535</td>\n",
       "      <td>2.708940</td>\n",
       "      <td>4.795073</td>\n",
       "      <td>AA</td>\n",
       "      <td>F</td>\n",
       "      <td>0</td>\n",
       "    </tr>\n",
       "    <tr>\n",
       "      <th>4</th>\n",
       "      <td>csid_5</td>\n",
       "      <td>11.909502</td>\n",
       "      <td>4.237073</td>\n",
       "      <td>0.187178</td>\n",
       "      <td>0.172891</td>\n",
       "      <td>0.162067</td>\n",
       "      <td>3.445247</td>\n",
       "      <td>3.677360</td>\n",
       "      <td>56.636326</td>\n",
       "      <td>C</td>\n",
       "      <td>AA</td>\n",
       "      <td>0</td>\n",
       "    </tr>\n",
       "  </tbody>\n",
       "</table>\n",
       "</div>"
      ],
      "text/plain": [
       "  customer_id  customer_visit_score  customer_product_search_score  \\\n",
       "0      csid_1             13.168425                       9.447662   \n",
       "1      csid_2             17.092979                       7.329056   \n",
       "2      csid_3             17.505334                       5.143676   \n",
       "3      csid_4             31.423381                       4.917740   \n",
       "4      csid_5             11.909502                       4.237073   \n",
       "\n",
       "   customer_ctr_score  customer_stay_score  customer_frequency_score  \\\n",
       "0           -0.070203            -0.139541                  0.436956   \n",
       "1            0.153298            -0.102726                  0.380340   \n",
       "2            0.106709             0.262834                  0.417648   \n",
       "3           -0.020226            -0.100526                  0.778130   \n",
       "4            0.187178             0.172891                  0.162067   \n",
       "\n",
       "   customer_product_variation_score  customer_order_score  \\\n",
       "0                          4.705761              2.537985   \n",
       "1                          4.205138              4.193444   \n",
       "2                          4.479070              3.878971   \n",
       "3                          5.055535              2.708940   \n",
       "4                          3.445247              3.677360   \n",
       "\n",
       "   customer_affinity_score customer_active_segment  X1  customer_category  \n",
       "0                 7.959503                       C   F                  0  \n",
       "1                17.517381                       C   A                  0  \n",
       "2                12.595155                       C  BA                  0  \n",
       "3                 4.795073                      AA   F                  0  \n",
       "4                56.636326                       C  AA                  0  "
      ]
     },
     "execution_count": 13,
     "metadata": {},
     "output_type": "execute_result"
    }
   ],
   "source": [
    "train_df.head()"
   ]
  },
  {
   "cell_type": "code",
   "execution_count": 14,
   "metadata": {
    "execution": {
     "iopub.execute_input": "2020-11-25T07:08:55.031789Z",
     "iopub.status.busy": "2020-11-25T07:08:55.030804Z",
     "iopub.status.idle": "2020-11-25T07:08:55.038381Z",
     "shell.execute_reply": "2020-11-25T07:08:55.037576Z"
    },
    "papermill": {
     "duration": 0.047785,
     "end_time": "2020-11-25T07:08:55.038536",
     "exception": false,
     "start_time": "2020-11-25T07:08:54.990751",
     "status": "completed"
    },
    "tags": []
   },
   "outputs": [],
   "source": [
    "target = train_df['customer_category']\n",
    "train_df.drop('customer_category', inplace=True, axis=1)\n",
    "train_df.drop('customer_id', inplace=True, axis=1)"
   ]
  },
  {
   "cell_type": "code",
   "execution_count": 15,
   "metadata": {
    "execution": {
     "iopub.execute_input": "2020-11-25T07:08:55.106901Z",
     "iopub.status.busy": "2020-11-25T07:08:55.105806Z",
     "iopub.status.idle": "2020-11-25T07:08:55.109428Z",
     "shell.execute_reply": "2020-11-25T07:08:55.108688Z"
    },
    "papermill": {
     "duration": 0.041222,
     "end_time": "2020-11-25T07:08:55.109553",
     "exception": false,
     "start_time": "2020-11-25T07:08:55.068331",
     "status": "completed"
    },
    "tags": []
   },
   "outputs": [],
   "source": [
    "train_df.drop('customer_active_segment', inplace=True, axis=1)\n",
    "train_df.drop('X1', inplace=True, axis=1)"
   ]
  },
  {
   "cell_type": "code",
   "execution_count": 16,
   "metadata": {
    "execution": {
     "iopub.execute_input": "2020-11-25T07:08:55.179121Z",
     "iopub.status.busy": "2020-11-25T07:08:55.176715Z",
     "iopub.status.idle": "2020-11-25T07:08:55.184193Z",
     "shell.execute_reply": "2020-11-25T07:08:55.183399Z"
    },
    "papermill": {
     "duration": 0.045509,
     "end_time": "2020-11-25T07:08:55.184318",
     "exception": false,
     "start_time": "2020-11-25T07:08:55.138809",
     "status": "completed"
    },
    "tags": []
   },
   "outputs": [],
   "source": [
    "X_train, X_test, y_train, y_test = train_test_split(train_df, target, test_size=0.3, random_state=42)"
   ]
  },
  {
   "cell_type": "code",
   "execution_count": 17,
   "metadata": {
    "execution": {
     "iopub.execute_input": "2020-11-25T07:08:55.250750Z",
     "iopub.status.busy": "2020-11-25T07:08:55.249468Z",
     "iopub.status.idle": "2020-11-25T07:08:55.253343Z",
     "shell.execute_reply": "2020-11-25T07:08:55.252570Z"
    },
    "papermill": {
     "duration": 0.039313,
     "end_time": "2020-11-25T07:08:55.253475",
     "exception": false,
     "start_time": "2020-11-25T07:08:55.214162",
     "status": "completed"
    },
    "tags": []
   },
   "outputs": [],
   "source": [
    "from sklearn.linear_model import LogisticRegression"
   ]
  },
  {
   "cell_type": "code",
   "execution_count": 18,
   "metadata": {
    "execution": {
     "iopub.execute_input": "2020-11-25T07:08:55.320527Z",
     "iopub.status.busy": "2020-11-25T07:08:55.319317Z",
     "iopub.status.idle": "2020-11-25T07:08:55.322905Z",
     "shell.execute_reply": "2020-11-25T07:08:55.322153Z"
    },
    "papermill": {
     "duration": 0.039767,
     "end_time": "2020-11-25T07:08:55.323040",
     "exception": false,
     "start_time": "2020-11-25T07:08:55.283273",
     "status": "completed"
    },
    "tags": []
   },
   "outputs": [],
   "source": [
    "mdl = LogisticRegression()"
   ]
  },
  {
   "cell_type": "code",
   "execution_count": 19,
   "metadata": {
    "execution": {
     "iopub.execute_input": "2020-11-25T07:08:55.392008Z",
     "iopub.status.busy": "2020-11-25T07:08:55.390872Z",
     "iopub.status.idle": "2020-11-25T07:08:55.543356Z",
     "shell.execute_reply": "2020-11-25T07:08:55.540626Z"
    },
    "papermill": {
     "duration": 0.189702,
     "end_time": "2020-11-25T07:08:55.543527",
     "exception": false,
     "start_time": "2020-11-25T07:08:55.353825",
     "status": "completed"
    },
    "tags": []
   },
   "outputs": [
    {
     "name": "stderr",
     "output_type": "stream",
     "text": [
      "/opt/conda/lib/python3.7/site-packages/sklearn/linear_model/_logistic.py:764: ConvergenceWarning: lbfgs failed to converge (status=1):\n",
      "STOP: TOTAL NO. of ITERATIONS REACHED LIMIT.\n",
      "\n",
      "Increase the number of iterations (max_iter) or scale the data as shown in:\n",
      "    https://scikit-learn.org/stable/modules/preprocessing.html\n",
      "Please also refer to the documentation for alternative solver options:\n",
      "    https://scikit-learn.org/stable/modules/linear_model.html#logistic-regression\n",
      "  extra_warning_msg=_LOGISTIC_SOLVER_CONVERGENCE_MSG)\n"
     ]
    },
    {
     "data": {
      "text/plain": [
       "LogisticRegression()"
      ]
     },
     "execution_count": 19,
     "metadata": {},
     "output_type": "execute_result"
    }
   ],
   "source": [
    "mdl.fit(X_train, y_train)"
   ]
  },
  {
   "cell_type": "code",
   "execution_count": 20,
   "metadata": {
    "execution": {
     "iopub.execute_input": "2020-11-25T07:08:55.614647Z",
     "iopub.status.busy": "2020-11-25T07:08:55.613801Z",
     "iopub.status.idle": "2020-11-25T07:08:55.617864Z",
     "shell.execute_reply": "2020-11-25T07:08:55.616986Z"
    },
    "papermill": {
     "duration": 0.043184,
     "end_time": "2020-11-25T07:08:55.618006",
     "exception": false,
     "start_time": "2020-11-25T07:08:55.574822",
     "status": "completed"
    },
    "tags": []
   },
   "outputs": [],
   "source": [
    "y_predicted = mdl.predict(X_test)"
   ]
  },
  {
   "cell_type": "code",
   "execution_count": 21,
   "metadata": {
    "execution": {
     "iopub.execute_input": "2020-11-25T07:08:55.687620Z",
     "iopub.status.busy": "2020-11-25T07:08:55.686537Z",
     "iopub.status.idle": "2020-11-25T07:08:55.692724Z",
     "shell.execute_reply": "2020-11-25T07:08:55.692049Z"
    },
    "papermill": {
     "duration": 0.042692,
     "end_time": "2020-11-25T07:08:55.692846",
     "exception": false,
     "start_time": "2020-11-25T07:08:55.650154",
     "status": "completed"
    },
    "tags": []
   },
   "outputs": [],
   "source": [
    "score = metrics.precision_score(y_test, y_predicted, average='macro')"
   ]
  },
  {
   "cell_type": "code",
   "execution_count": 22,
   "metadata": {
    "execution": {
     "iopub.execute_input": "2020-11-25T07:08:55.761715Z",
     "iopub.status.busy": "2020-11-25T07:08:55.760826Z",
     "iopub.status.idle": "2020-11-25T07:08:55.764792Z",
     "shell.execute_reply": "2020-11-25T07:08:55.763956Z"
    },
    "papermill": {
     "duration": 0.040798,
     "end_time": "2020-11-25T07:08:55.764931",
     "exception": false,
     "start_time": "2020-11-25T07:08:55.724133",
     "status": "completed"
    },
    "tags": []
   },
   "outputs": [
    {
     "name": "stdout",
     "output_type": "stream",
     "text": [
      "RMSE: 0.971102608719248\n"
     ]
    }
   ],
   "source": [
    "print('RMSE:', score)"
   ]
  },
  {
   "cell_type": "code",
   "execution_count": 23,
   "metadata": {
    "execution": {
     "iopub.execute_input": "2020-11-25T07:08:55.839626Z",
     "iopub.status.busy": "2020-11-25T07:08:55.836237Z",
     "iopub.status.idle": "2020-11-25T07:08:55.846932Z",
     "shell.execute_reply": "2020-11-25T07:08:55.846297Z"
    },
    "papermill": {
     "duration": 0.047265,
     "end_time": "2020-11-25T07:08:55.847089",
     "exception": false,
     "start_time": "2020-11-25T07:08:55.799824",
     "status": "completed"
    },
    "tags": []
   },
   "outputs": [
    {
     "data": {
      "text/plain": [
       "customer_id                          0\n",
       "customer_visit_score                 0\n",
       "customer_product_search_score       29\n",
       "customer_ctr_score                   0\n",
       "customer_stay_score                 16\n",
       "customer_frequency_score             0\n",
       "customer_product_variation_score    43\n",
       "customer_order_score                41\n",
       "customer_affinity_score              0\n",
       "customer_active_segment             12\n",
       "X1                                  25\n",
       "dtype: int64"
      ]
     },
     "execution_count": 23,
     "metadata": {},
     "output_type": "execute_result"
    }
   ],
   "source": [
    "#test df treatment\n",
    "test_df.isnull().sum()"
   ]
  },
  {
   "cell_type": "code",
   "execution_count": 24,
   "metadata": {
    "execution": {
     "iopub.execute_input": "2020-11-25T07:08:55.920333Z",
     "iopub.status.busy": "2020-11-25T07:08:55.919332Z",
     "iopub.status.idle": "2020-11-25T07:08:55.927977Z",
     "shell.execute_reply": "2020-11-25T07:08:55.927229Z"
    },
    "papermill": {
     "duration": 0.048385,
     "end_time": "2020-11-25T07:08:55.928121",
     "exception": false,
     "start_time": "2020-11-25T07:08:55.879736",
     "status": "completed"
    },
    "tags": []
   },
   "outputs": [],
   "source": [
    "test_df[['customer_product_search_score','customer_stay_score','customer_product_variation_score','customer_order_score', 'customer_active_segment','X1']] = test_df[['customer_product_search_score','customer_stay_score','customer_product_variation_score','customer_order_score', 'customer_active_segment','X1']].ffill()"
   ]
  },
  {
   "cell_type": "code",
   "execution_count": 25,
   "metadata": {
    "execution": {
     "iopub.execute_input": "2020-11-25T07:08:55.998603Z",
     "iopub.status.busy": "2020-11-25T07:08:55.997806Z",
     "iopub.status.idle": "2020-11-25T07:08:56.001027Z",
     "shell.execute_reply": "2020-11-25T07:08:56.000399Z"
    },
    "papermill": {
     "duration": 0.040524,
     "end_time": "2020-11-25T07:08:56.001172",
     "exception": false,
     "start_time": "2020-11-25T07:08:55.960648",
     "status": "completed"
    },
    "tags": []
   },
   "outputs": [],
   "source": [
    "customer_id = test_df['customer_id']"
   ]
  },
  {
   "cell_type": "code",
   "execution_count": 26,
   "metadata": {
    "execution": {
     "iopub.execute_input": "2020-11-25T07:08:56.077418Z",
     "iopub.status.busy": "2020-11-25T07:08:56.076633Z",
     "iopub.status.idle": "2020-11-25T07:08:56.080600Z",
     "shell.execute_reply": "2020-11-25T07:08:56.079827Z"
    },
    "papermill": {
     "duration": 0.046696,
     "end_time": "2020-11-25T07:08:56.080745",
     "exception": false,
     "start_time": "2020-11-25T07:08:56.034049",
     "status": "completed"
    },
    "tags": []
   },
   "outputs": [],
   "source": [
    "test_df.drop('customer_id', inplace=True, axis=1)\n",
    "test_df.drop('customer_active_segment', inplace=True, axis=1)\n",
    "test_df.drop('X1', inplace=True, axis=1)"
   ]
  },
  {
   "cell_type": "code",
   "execution_count": 27,
   "metadata": {
    "execution": {
     "iopub.execute_input": "2020-11-25T07:08:56.161656Z",
     "iopub.status.busy": "2020-11-25T07:08:56.160737Z",
     "iopub.status.idle": "2020-11-25T07:08:56.164651Z",
     "shell.execute_reply": "2020-11-25T07:08:56.163903Z"
    },
    "papermill": {
     "duration": 0.047136,
     "end_time": "2020-11-25T07:08:56.164794",
     "exception": false,
     "start_time": "2020-11-25T07:08:56.117658",
     "status": "completed"
    },
    "tags": []
   },
   "outputs": [],
   "source": [
    "output = mdl.predict(test_df)"
   ]
  },
  {
   "cell_type": "code",
   "execution_count": 28,
   "metadata": {
    "execution": {
     "iopub.execute_input": "2020-11-25T07:08:56.242414Z",
     "iopub.status.busy": "2020-11-25T07:08:56.241570Z",
     "iopub.status.idle": "2020-11-25T07:08:56.245248Z",
     "shell.execute_reply": "2020-11-25T07:08:56.244586Z"
    },
    "papermill": {
     "duration": 0.044959,
     "end_time": "2020-11-25T07:08:56.245398",
     "exception": false,
     "start_time": "2020-11-25T07:08:56.200439",
     "status": "completed"
    },
    "tags": []
   },
   "outputs": [],
   "source": [
    "# intialise data of lists. \n",
    "result_df = {'customer_id':customer_id, 'customer_category':output} \n",
    "  \n",
    "# Create DataFrame \n",
    "df = pd.DataFrame(result_df) "
   ]
  },
  {
   "cell_type": "code",
   "execution_count": 29,
   "metadata": {
    "execution": {
     "iopub.execute_input": "2020-11-25T07:08:56.319486Z",
     "iopub.status.busy": "2020-11-25T07:08:56.318724Z",
     "iopub.status.idle": "2020-11-25T07:08:56.725704Z",
     "shell.execute_reply": "2020-11-25T07:08:56.724981Z"
    },
    "papermill": {
     "duration": 0.446523,
     "end_time": "2020-11-25T07:08:56.725833",
     "exception": false,
     "start_time": "2020-11-25T07:08:56.279310",
     "status": "completed"
    },
    "tags": []
   },
   "outputs": [],
   "source": [
    "df.to_csv('Results.csv', index=False)"
   ]
  }
 ],
 "metadata": {
  "kernelspec": {
   "display_name": "Python 3",
   "language": "python",
   "name": "python3"
  },
  "language_info": {
   "codemirror_mode": {
    "name": "ipython",
    "version": 3
   },
   "file_extension": ".py",
   "mimetype": "text/x-python",
   "name": "python",
   "nbconvert_exporter": "python",
   "pygments_lexer": "ipython3",
   "version": "3.7.6"
  },
  "papermill": {
   "duration": 9.548121,
   "end_time": "2020-11-25T07:08:56.867604",
   "environment_variables": {},
   "exception": null,
   "input_path": "__notebook__.ipynb",
   "output_path": "__notebook__.ipynb",
   "parameters": {},
   "start_time": "2020-11-25T07:08:47.319483",
   "version": "2.1.0"
  }
 },
 "nbformat": 4,
 "nbformat_minor": 4
}
